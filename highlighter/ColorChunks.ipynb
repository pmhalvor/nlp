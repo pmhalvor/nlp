{
 "cells": [
  {
   "cell_type": "markdown",
   "metadata": {},
   "source": [
    "# Color chunks\n",
    "Using the `color_chunks.py` module. "
   ]
  },
  {
   "cell_type": "code",
   "execution_count": 1,
   "metadata": {},
   "outputs": [],
   "source": [
    "%load_ext autoreload\n",
    "%autoreload 2"
   ]
  },
  {
   "cell_type": "code",
   "execution_count": 2,
   "metadata": {},
   "outputs": [],
   "source": [
    "from color_chunks import get_colored_chunks"
   ]
  },
  {
   "cell_type": "code",
   "execution_count": 3,
   "metadata": {},
   "outputs": [],
   "source": [
    "str1 = \"In a typical application, not all requests are equal: failing a new user sign-up request is different from failing a request polling for new email in the background.\"\n",
    "\n",
    "str2 = \" In many cases, however, availability calculated as the  request success rate over all requests is a reasonable approximation of unplanned downtime, as viewed from the end-user perspective.\" \n",
    "\n",
    "text = str1 + str2"
   ]
  },
  {
   "cell_type": "code",
   "execution_count": 4,
   "metadata": {},
   "outputs": [],
   "source": [
    "cmd_str = get_colored_chunks(text)"
   ]
  },
  {
   "cell_type": "code",
   "execution_count": 9,
   "metadata": {},
   "outputs": [
    {
     "name": "stdout",
     "output_type": "stream",
     "text": [
      "In \u001b[32ma typical application\u001b[0m, not \u001b[32m\u001b[32mall requests\u001b[0m\u001b[0m are equal: failing \u001b[32ma new user sign-up request\u001b[0m is different from failing \u001b[32ma request polling\u001b[0m for \u001b[32mnew email\u001b[0m in \u001b[32mthe background\u001b[0m. In \u001b[32mmany cases\u001b[0m, however, \u001b[32mavailability\u001b[0m calculated as \u001b[32mthe  request success rate\u001b[0m over \u001b[32m\u001b[32mall requests\u001b[0m\u001b[0m is \u001b[32ma reasonable approximation\u001b[0m of \u001b[32munplanned downtime\u001b[0m, as viewed from \u001b[32mthe end-user perspective\u001b[0m.\n"
     ]
    }
   ],
   "source": [
    "print(cmd_str)"
   ]
  },
  {
   "cell_type": "markdown",
   "metadata": {
    "variables": {
     " print(cmd_str) ": "In \u001b[32ma typical application\u001b[0m, not \u001b[32m\u001b[32mall requests\u001b[0m\u001b[0m are equal: failing \u001b[32ma new user sign-up request\u001b[0m is different from failing \u001b[32ma request polling\u001b[0m for \u001b[32mnew email\u001b[0m in \u001b[32mthe background\u001b[0m. In \u001b[32mmany cases\u001b[0m, however, \u001b[32mavailability\u001b[0m calculated as \u001b[32mthe  request success rate\u001b[0m over \u001b[32m\u001b[32mall requests\u001b[0m\u001b[0m is \u001b[32ma reasonable approximation\u001b[0m of \u001b[32munplanned downtime\u001b[0m, as viewed from \u001b[32mthe end-user perspective\u001b[0m."
    }
   },
   "source": [
    "Here is the result:\n",
    "{{ print(cmd_str) }}"
   ]
  },
  {
   "cell_type": "markdown",
   "metadata": {},
   "source": [
    "As we can see, the above call only give when printed from python. To get markdown interpretable color chunking, call the function with parameter `markdown=True`. "
   ]
  },
  {
   "cell_type": "code",
   "execution_count": 10,
   "metadata": {},
   "outputs": [],
   "source": [
    "mkd_str = get_colored_chunks(text, markdown=True)"
   ]
  },
  {
   "cell_type": "markdown",
   "metadata": {
    "variables": {
     " mkd_str ": "In <mark><span style=\"color:green\">a typical application</span></mark>, not <mark><span style=\"color:green\"><mark><span style=\"color:green\">all requests</span></mark></span></mark> are equal: failing <mark><span style=\"color:green\">a new user sign-up request</span></mark> is different from failing <mark><span style=\"color:green\">a request polling</span></mark> for <mark><span style=\"color:green\">new email</span></mark> in <mark><span style=\"color:green\">the background</span></mark>. In <mark><span style=\"color:green\">many cases</span></mark>, however, <mark><span style=\"color:green\">availability</span></mark> calculated as <mark><span style=\"color:green\">the  request success rate</span></mark> over <mark><span style=\"color:green\"><mark><span style=\"color:green\">all requests</span></mark></span></mark> is <mark><span style=\"color:green\">a reasonable approximation</span></mark> of <mark><span style=\"color:green\">unplanned downtime</span></mark>, as viewed from <mark><span style=\"color:green\">the end-user perspective</span></mark>."
    }
   },
   "source": [
    "Here is the result printed in markdown:\n",
    "\n",
    "{{ mkd_str }}\n",
    "\n",
    "While printing this string in python gives:"
   ]
  },
  {
   "cell_type": "code",
   "execution_count": 11,
   "metadata": {},
   "outputs": [
    {
     "name": "stdout",
     "output_type": "stream",
     "text": [
      "In <mark><span style=\"color:green\">a typical application</span></mark>, not <mark><span style=\"color:green\"><mark><span style=\"color:green\">all requests</span></mark></span></mark> are equal: failing <mark><span style=\"color:green\">a new user sign-up request</span></mark> is different from failing <mark><span style=\"color:green\">a request polling</span></mark> for <mark><span style=\"color:green\">new email</span></mark> in <mark><span style=\"color:green\">the background</span></mark>. In <mark><span style=\"color:green\">many cases</span></mark>, however, <mark><span style=\"color:green\">availability</span></mark> calculated as <mark><span style=\"color:green\">the  request success rate</span></mark> over <mark><span style=\"color:green\"><mark><span style=\"color:green\">all requests</span></mark></span></mark> is <mark><span style=\"color:green\">a reasonable approximation</span></mark> of <mark><span style=\"color:green\">unplanned downtime</span></mark>, as viewed from <mark><span style=\"color:green\">the end-user perspective</span></mark>.\n"
     ]
    }
   ],
   "source": [
    "print(mkd_str)"
   ]
  },
  {
   "cell_type": "code",
   "execution_count": null,
   "metadata": {},
   "outputs": [],
   "source": []
  }
 ],
 "metadata": {
  "kernelspec": {
   "display_name": "Python 3",
   "language": "python",
   "name": "python3"
  },
  "language_info": {
   "codemirror_mode": {
    "name": "ipython",
    "version": 3
   },
   "file_extension": ".py",
   "mimetype": "text/x-python",
   "name": "python",
   "nbconvert_exporter": "python",
   "pygments_lexer": "ipython3",
   "version": "3.8.5"
  }
 },
 "nbformat": 4,
 "nbformat_minor": 4
}
