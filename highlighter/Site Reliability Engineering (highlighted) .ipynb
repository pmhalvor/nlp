{
 "cells": [
  {
   "cell_type": "markdown",
   "metadata": {},
   "source": [
    "# Site Reliability Engineering (highlighted)\n",
    "\n",
    "Welcome to the note which pulls the text from a Google online textbook, and highlights the objectives in each sentence. Tools being used in hte background are `spacy`, `bs4`, and basic markdown scripting.  \n",
    "\n",
    "## Instructions\n",
    "\n",
    "Run the following cells by clicking on them and pressing `CTRL + ENTER`. \n",
    "\n",
    "The next chapters can be loaded by rerunning the last cell. "
   ]
  },
  {
   "cell_type": "code",
   "execution_count": 1,
   "metadata": {},
   "outputs": [
    {
     "name": "stdout",
     "output_type": "stream",
     "text": [
      "Subdirectory sre_google already exists\r\n"
     ]
    }
   ],
   "source": [
    "! python scrape.py"
   ]
  },
  {
   "cell_type": "code",
   "execution_count": 2,
   "metadata": {},
   "outputs": [],
   "source": [
    "from IPython.display import Markdown as md\n",
    "from color_chunks import get_colored_chunks\n",
    "import os\n",
    "\n",
    "# set directory where book is located\n",
    "dir_path = 'sre_google/'\n",
    "os.chdir(dir_path)\n",
    "\n",
    "# dictionary of book chapters as raw text\n",
    "book = {}\n",
    "\n",
    "# read chapters from files (sorted by creation time)\n",
    "for filename in sorted(os.listdir('.'), key=os.path.getmtime):\n",
    "    with open(filename, 'r') as f:\n",
    "        book[filename[:-4]] = f.read()"
   ]
  },
  {
   "cell_type": "code",
   "execution_count": 3,
   "metadata": {},
   "outputs": [],
   "source": [
    "chapters = list(book.keys())\n",
    "i = 3  # skip unnecessary chapters in the beginning"
   ]
  },
  {
   "cell_type": "code",
   "execution_count": null,
   "metadata": {
    "scrolled": false
   },
   "outputs": [],
   "source": [
    "# For each new chapter, press CTRL + ENTER\n",
    "i += 1\n",
    "md(get_colored_chunks(book[chapters[i]], markdown=True))"
   ]
  },
  {
   "cell_type": "code",
   "execution_count": null,
   "metadata": {},
   "outputs": [],
   "source": []
  }
 ],
 "metadata": {
  "kernelspec": {
   "display_name": "Python 3",
   "language": "python",
   "name": "python3"
  },
  "language_info": {
   "codemirror_mode": {
    "name": "ipython",
    "version": 3
   },
   "file_extension": ".py",
   "mimetype": "text/x-python",
   "name": "python",
   "nbconvert_exporter": "python",
   "pygments_lexer": "ipython3",
   "version": "3.8.5"
  }
 },
 "nbformat": 4,
 "nbformat_minor": 4
}
