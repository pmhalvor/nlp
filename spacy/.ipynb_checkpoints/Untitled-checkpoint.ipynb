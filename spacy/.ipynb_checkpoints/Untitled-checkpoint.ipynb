{
 "cells": [
  {
   "cell_type": "code",
   "execution_count": 1,
   "metadata": {},
   "outputs": [],
   "source": [
    "%load_ext autoreload\n",
    "%autoreload 2"
   ]
  },
  {
   "cell_type": "code",
   "execution_count": 2,
   "metadata": {},
   "outputs": [],
   "source": [
    "from color_chunks import get_colored_chunks"
   ]
  },
  {
   "cell_type": "code",
   "execution_count": 3,
   "metadata": {},
   "outputs": [],
   "source": [
    "import os"
   ]
  },
  {
   "cell_type": "code",
   "execution_count": 8,
   "metadata": {},
   "outputs": [
    {
     "name": "stdout",
     "output_type": "stream",
     "text": [
      "links.txt\n",
      "foreword.txt\n",
      "preface.txt\n",
      "part-I-introduction.txt\n",
      "introduction.txt\n",
      "production-environment.txt\n",
      "part-II-principles.txt\n",
      "embracing-risk.txt\n",
      "service-level-objectives.txt\n",
      "eliminating-toil.txt\n",
      "monitoring-distributed-systems.txt\n",
      "automation-at-google.txt\n",
      "release-engineering.txt\n",
      "simplicity.txt\n",
      "part-III-practices.txt\n",
      "practical-alerting.txt\n",
      "being-on-call.txt\n",
      "effective-troubleshooting.txt\n",
      "emergency-response.txt\n",
      "managing-incidents.txt\n",
      "postmortem-culture.txt\n",
      "tracking-outages.txt\n",
      "testing-reliability.txt\n",
      "software-engineering-in-sre.txt\n",
      "load-balancing-frontend.txt\n",
      "load-balancing-datacenter.txt\n",
      "handling-overload.txt\n",
      "addressing-cascading-failures.txt\n",
      "managing-critical-state.txt\n",
      "distributed-periodic-scheduling.txt\n",
      "data-processing-pipelines.txt\n",
      "data-integrity.txt\n",
      "reliable-product-launches.txt\n",
      "part-IV-management.txt\n",
      "accelerating-sre-on-call.txt\n",
      "dealing-with-interrupts.txt\n",
      "operational-overload.txt\n",
      "communication-and-collaboration.txt\n",
      "evolving-sre-engagement-model.txt\n",
      "part-V-conclusions.txt\n",
      "lessons-learned.txt\n",
      "conclusion.txt\n",
      "availability-table.txt\n",
      "service-best-practices.txt\n",
      "incident-document.txt\n",
      "example-postmortem.txt\n",
      "launch-checklist.txt\n",
      "production-meeting.txt\n"
     ]
    }
   ],
   "source": [
    "dir_path = '../sre_google/'\n",
    "os.chdir(dir_path)\n",
    "for filename in sorted(os.listdir('.'), key=os.path.getmtime):\n",
    "    print(filename[:-4])"
   ]
  },
  {
   "cell_type": "code",
   "execution_count": null,
   "metadata": {},
   "outputs": [],
   "source": []
  }
 ],
 "metadata": {
  "kernelspec": {
   "display_name": "Python 3",
   "language": "python",
   "name": "python3"
  },
  "language_info": {
   "codemirror_mode": {
    "name": "ipython",
    "version": 3
   },
   "file_extension": ".py",
   "mimetype": "text/x-python",
   "name": "python",
   "nbconvert_exporter": "python",
   "pygments_lexer": "ipython3",
   "version": "3.8.5"
  }
 },
 "nbformat": 4,
 "nbformat_minor": 4
}
